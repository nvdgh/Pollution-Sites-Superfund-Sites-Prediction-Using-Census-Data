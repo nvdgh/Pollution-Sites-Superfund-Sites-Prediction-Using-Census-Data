{
 "cells": [
  {
   "cell_type": "markdown",
   "metadata": {},
   "source": [
    "## Import and cleaning the data"
   ]
  },
  {
   "cell_type": "code",
   "execution_count": 107,
   "metadata": {},
   "outputs": [],
   "source": [
    "# Loading neccessary libraries\n",
    "library(readr)\n",
    "library(tidyverse)\n",
    "library(dplyr)\n",
    "library(caret)\n",
    "library(broom.mixed)\n",
    "library(doSNOW)"
   ]
  },
  {
   "cell_type": "code",
   "execution_count": 2,
   "metadata": {},
   "outputs": [
    {
     "name": "stderr",
     "output_type": "stream",
     "text": [
      "Parsed with column specification:\n",
      "cols(\n",
      "  .default = col_double(),\n",
      "  State_name = \u001b[31mcol_character()\u001b[39m,\n",
      "  County_name = \u001b[31mcol_character()\u001b[39m,\n",
      "  Med_HHD_Inc_BG_ACS_09_13 = \u001b[31mcol_character()\u001b[39m,\n",
      "  Med_HHD_Inc_BG_ACSMOE_09_13 = \u001b[31mcol_character()\u001b[39m,\n",
      "  Med_HHD_Inc_TR_ACS_09_13 = \u001b[31mcol_character()\u001b[39m,\n",
      "  Med_HHD_Inc_TR_ACSMOE_09_13 = \u001b[31mcol_character()\u001b[39m,\n",
      "  Aggregate_HH_INC_ACS_09_13 = \u001b[31mcol_character()\u001b[39m,\n",
      "  Aggregate_HH_INC_ACSMOE_09_13 = \u001b[31mcol_character()\u001b[39m,\n",
      "  Med_House_Value_BG_ACS_09_13 = \u001b[31mcol_character()\u001b[39m,\n",
      "  Med_House_Value_BG_ACSMOE_09_13 = \u001b[31mcol_character()\u001b[39m,\n",
      "  Med_house_value_TR_ACS_09_13 = \u001b[31mcol_character()\u001b[39m,\n",
      "  Med_house_value_TR_ACSMOE_09_13 = \u001b[31mcol_character()\u001b[39m,\n",
      "  Aggr_House_Value_ACS_09_13 = \u001b[31mcol_character()\u001b[39m,\n",
      "  Aggr_House_Value_ACSMOE_09_13 = \u001b[31mcol_character()\u001b[39m,\n",
      "  avg_Agg_HH_INC_ACS_09_13 = \u001b[31mcol_character()\u001b[39m,\n",
      "  avg_Agg_HH_INC_ACSMOE_09_13 = \u001b[31mcol_character()\u001b[39m,\n",
      "  avg_Agg_House_Value_ACS_09_13 = \u001b[31mcol_character()\u001b[39m,\n",
      "  avg_Agg_House_Value_ACSMOE_09_13 = \u001b[31mcol_character()\u001b[39m\n",
      ")\n",
      "\n",
      "See spec(...) for full column specifications.\n",
      "\n"
     ]
    }
   ],
   "source": [
    "# Import the Census dataset and replace ',' ' ' as NA values and trim white space\n",
    "sf_block <- read_csv('C:/Datasets/pdb_block_group.csv', col_names = T, col_types = NULL, na=c(\"\",\" \"), trim_ws = T)"
   ]
  },
  {
   "cell_type": "code",
   "execution_count": 3,
   "metadata": {},
   "outputs": [
    {
     "data": {
      "text/html": [
       "<table>\n",
       "<caption>A tibble: 6 × 345</caption>\n",
       "<thead>\n",
       "\t<tr><th scope=col>FIPS_Block_Group</th><th scope=col>State</th><th scope=col>State_name</th><th scope=col>County</th><th scope=col>County_name</th><th scope=col>Tract</th><th scope=col>Block_Group</th><th scope=col>Flag</th><th scope=col>LAND_AREA</th><th scope=col>AIAN_LAND</th><th scope=col>...</th><th scope=col>pct_TEA_Update_Leave_CEN_2010</th><th scope=col>pct_Census_Mail_Returns_CEN_2010</th><th scope=col>pct_Vacant_CEN_2010</th><th scope=col>pct_Deletes_CEN_2010</th><th scope=col>pct_Census_UAA_CEN_2010</th><th scope=col>pct_Mailback_Count_CEN_2010</th><th scope=col>pct_FRST_FRMS_CEN_2010</th><th scope=col>pct_RPLCMNT_FRMS_CEN_2010</th><th scope=col>pct_BILQ_Mailout_count_CEN_2010</th><th scope=col>has_superfund</th></tr>\n",
       "\t<tr><th scope=col>&lt;dbl&gt;</th><th scope=col>&lt;dbl&gt;</th><th scope=col>&lt;chr&gt;</th><th scope=col>&lt;dbl&gt;</th><th scope=col>&lt;chr&gt;</th><th scope=col>&lt;dbl&gt;</th><th scope=col>&lt;dbl&gt;</th><th scope=col>&lt;dbl&gt;</th><th scope=col>&lt;dbl&gt;</th><th scope=col>&lt;dbl&gt;</th><th scope=col>...</th><th scope=col>&lt;dbl&gt;</th><th scope=col>&lt;dbl&gt;</th><th scope=col>&lt;dbl&gt;</th><th scope=col>&lt;dbl&gt;</th><th scope=col>&lt;dbl&gt;</th><th scope=col>&lt;dbl&gt;</th><th scope=col>&lt;dbl&gt;</th><th scope=col>&lt;dbl&gt;</th><th scope=col>&lt;dbl&gt;</th><th scope=col>&lt;dbl&gt;</th></tr>\n",
       "</thead>\n",
       "<tbody>\n",
       "\t<tr><td>10010201001</td><td>1</td><td>Alabama</td><td>1</td><td>Autauga County</td><td>20100</td><td>1</td><td>NA</td><td>1.638</td><td>0</td><td>...</td><td>0</td><td>62.13</td><td>3.65</td><td>0</td><td>19.93</td><td>76.41</td><td>54.49</td><td>7.64</td><td>0</td><td>0</td></tr>\n",
       "\t<tr><td>10010201002</td><td>1</td><td>Alabama</td><td>1</td><td>Autauga County</td><td>20100</td><td>2</td><td>NA</td><td>2.150</td><td>0</td><td>...</td><td>0</td><td>72.08</td><td>0.83</td><td>0</td><td>14.17</td><td>85.00</td><td>66.46</td><td>5.63</td><td>0</td><td>0</td></tr>\n",
       "\t<tr><td>10010202001</td><td>1</td><td>Alabama</td><td>1</td><td>Autauga County</td><td>20200</td><td>1</td><td>NA</td><td>0.795</td><td>0</td><td>...</td><td>0</td><td>69.21</td><td>2.11</td><td>0</td><td>11.58</td><td>86.32</td><td>62.63</td><td>6.58</td><td>0</td><td>0</td></tr>\n",
       "\t<tr><td>10010202002</td><td>1</td><td>Alabama</td><td>1</td><td>Autauga County</td><td>20200</td><td>2</td><td>NA</td><td>0.495</td><td>0</td><td>...</td><td>0</td><td>68.50</td><td>2.42</td><td>0</td><td>14.32</td><td>83.26</td><td>59.25</td><td>9.25</td><td>0</td><td>0</td></tr>\n",
       "\t<tr><td>10010203001</td><td>1</td><td>Alabama</td><td>1</td><td>Autauga County</td><td>20300</td><td>1</td><td>NA</td><td>1.493</td><td>0</td><td>...</td><td>0</td><td>75.16</td><td>1.57</td><td>0</td><td> 5.24</td><td>93.19</td><td>75.16</td><td>0.00</td><td>0</td><td>0</td></tr>\n",
       "\t<tr><td>10010203002</td><td>1</td><td>Alabama</td><td>1</td><td>Autauga County</td><td>20300</td><td>2</td><td>NA</td><td>0.572</td><td>0</td><td>...</td><td>0</td><td>67.13</td><td>1.93</td><td>0</td><td> 9.94</td><td>88.12</td><td>67.13</td><td>0.00</td><td>0</td><td>0</td></tr>\n",
       "</tbody>\n",
       "</table>\n"
      ],
      "text/latex": [
       "A tibble: 6 × 345\n",
       "\\begin{tabular}{lllllllllllllllllllll}\n",
       " FIPS\\_Block\\_Group & State & State\\_name & County & County\\_name & Tract & Block\\_Group & Flag & LAND\\_AREA & AIAN\\_LAND & ... & pct\\_TEA\\_Update\\_Leave\\_CEN\\_2010 & pct\\_Census\\_Mail\\_Returns\\_CEN\\_2010 & pct\\_Vacant\\_CEN\\_2010 & pct\\_Deletes\\_CEN\\_2010 & pct\\_Census\\_UAA\\_CEN\\_2010 & pct\\_Mailback\\_Count\\_CEN\\_2010 & pct\\_FRST\\_FRMS\\_CEN\\_2010 & pct\\_RPLCMNT\\_FRMS\\_CEN\\_2010 & pct\\_BILQ\\_Mailout\\_count\\_CEN\\_2010 & has\\_superfund\\\\\n",
       " <dbl> & <dbl> & <chr> & <dbl> & <chr> & <dbl> & <dbl> & <dbl> & <dbl> & <dbl> & ... & <dbl> & <dbl> & <dbl> & <dbl> & <dbl> & <dbl> & <dbl> & <dbl> & <dbl> & <dbl>\\\\\n",
       "\\hline\n",
       "\t 10010201001 & 1 & Alabama & 1 & Autauga County & 20100 & 1 & NA & 1.638 & 0 & ... & 0 & 62.13 & 3.65 & 0 & 19.93 & 76.41 & 54.49 & 7.64 & 0 & 0\\\\\n",
       "\t 10010201002 & 1 & Alabama & 1 & Autauga County & 20100 & 2 & NA & 2.150 & 0 & ... & 0 & 72.08 & 0.83 & 0 & 14.17 & 85.00 & 66.46 & 5.63 & 0 & 0\\\\\n",
       "\t 10010202001 & 1 & Alabama & 1 & Autauga County & 20200 & 1 & NA & 0.795 & 0 & ... & 0 & 69.21 & 2.11 & 0 & 11.58 & 86.32 & 62.63 & 6.58 & 0 & 0\\\\\n",
       "\t 10010202002 & 1 & Alabama & 1 & Autauga County & 20200 & 2 & NA & 0.495 & 0 & ... & 0 & 68.50 & 2.42 & 0 & 14.32 & 83.26 & 59.25 & 9.25 & 0 & 0\\\\\n",
       "\t 10010203001 & 1 & Alabama & 1 & Autauga County & 20300 & 1 & NA & 1.493 & 0 & ... & 0 & 75.16 & 1.57 & 0 &  5.24 & 93.19 & 75.16 & 0.00 & 0 & 0\\\\\n",
       "\t 10010203002 & 1 & Alabama & 1 & Autauga County & 20300 & 2 & NA & 0.572 & 0 & ... & 0 & 67.13 & 1.93 & 0 &  9.94 & 88.12 & 67.13 & 0.00 & 0 & 0\\\\\n",
       "\\end{tabular}\n"
      ],
      "text/markdown": [
       "\n",
       "A tibble: 6 × 345\n",
       "\n",
       "| FIPS_Block_Group &lt;dbl&gt; | State &lt;dbl&gt; | State_name &lt;chr&gt; | County &lt;dbl&gt; | County_name &lt;chr&gt; | Tract &lt;dbl&gt; | Block_Group &lt;dbl&gt; | Flag &lt;dbl&gt; | LAND_AREA &lt;dbl&gt; | AIAN_LAND &lt;dbl&gt; | ... ... | pct_TEA_Update_Leave_CEN_2010 &lt;dbl&gt; | pct_Census_Mail_Returns_CEN_2010 &lt;dbl&gt; | pct_Vacant_CEN_2010 &lt;dbl&gt; | pct_Deletes_CEN_2010 &lt;dbl&gt; | pct_Census_UAA_CEN_2010 &lt;dbl&gt; | pct_Mailback_Count_CEN_2010 &lt;dbl&gt; | pct_FRST_FRMS_CEN_2010 &lt;dbl&gt; | pct_RPLCMNT_FRMS_CEN_2010 &lt;dbl&gt; | pct_BILQ_Mailout_count_CEN_2010 &lt;dbl&gt; | has_superfund &lt;dbl&gt; |\n",
       "|---|---|---|---|---|---|---|---|---|---|---|---|---|---|---|---|---|---|---|---|---|\n",
       "| 10010201001 | 1 | Alabama | 1 | Autauga County | 20100 | 1 | NA | 1.638 | 0 | ... | 0 | 62.13 | 3.65 | 0 | 19.93 | 76.41 | 54.49 | 7.64 | 0 | 0 |\n",
       "| 10010201002 | 1 | Alabama | 1 | Autauga County | 20100 | 2 | NA | 2.150 | 0 | ... | 0 | 72.08 | 0.83 | 0 | 14.17 | 85.00 | 66.46 | 5.63 | 0 | 0 |\n",
       "| 10010202001 | 1 | Alabama | 1 | Autauga County | 20200 | 1 | NA | 0.795 | 0 | ... | 0 | 69.21 | 2.11 | 0 | 11.58 | 86.32 | 62.63 | 6.58 | 0 | 0 |\n",
       "| 10010202002 | 1 | Alabama | 1 | Autauga County | 20200 | 2 | NA | 0.495 | 0 | ... | 0 | 68.50 | 2.42 | 0 | 14.32 | 83.26 | 59.25 | 9.25 | 0 | 0 |\n",
       "| 10010203001 | 1 | Alabama | 1 | Autauga County | 20300 | 1 | NA | 1.493 | 0 | ... | 0 | 75.16 | 1.57 | 0 |  5.24 | 93.19 | 75.16 | 0.00 | 0 | 0 |\n",
       "| 10010203002 | 1 | Alabama | 1 | Autauga County | 20300 | 2 | NA | 0.572 | 0 | ... | 0 | 67.13 | 1.93 | 0 |  9.94 | 88.12 | 67.13 | 0.00 | 0 | 0 |\n",
       "\n"
      ],
      "text/plain": [
       "  FIPS_Block_Group State State_name County County_name    Tract Block_Group\n",
       "1 10010201001      1     Alabama    1      Autauga County 20100 1          \n",
       "2 10010201002      1     Alabama    1      Autauga County 20100 2          \n",
       "3 10010202001      1     Alabama    1      Autauga County 20200 1          \n",
       "4 10010202002      1     Alabama    1      Autauga County 20200 2          \n",
       "5 10010203001      1     Alabama    1      Autauga County 20300 1          \n",
       "6 10010203002      1     Alabama    1      Autauga County 20300 2          \n",
       "  Flag LAND_AREA AIAN_LAND ... pct_TEA_Update_Leave_CEN_2010\n",
       "1 NA   1.638     0         ... 0                            \n",
       "2 NA   2.150     0         ... 0                            \n",
       "3 NA   0.795     0         ... 0                            \n",
       "4 NA   0.495     0         ... 0                            \n",
       "5 NA   1.493     0         ... 0                            \n",
       "6 NA   0.572     0         ... 0                            \n",
       "  pct_Census_Mail_Returns_CEN_2010 pct_Vacant_CEN_2010 pct_Deletes_CEN_2010\n",
       "1 62.13                            3.65                0                   \n",
       "2 72.08                            0.83                0                   \n",
       "3 69.21                            2.11                0                   \n",
       "4 68.50                            2.42                0                   \n",
       "5 75.16                            1.57                0                   \n",
       "6 67.13                            1.93                0                   \n",
       "  pct_Census_UAA_CEN_2010 pct_Mailback_Count_CEN_2010 pct_FRST_FRMS_CEN_2010\n",
       "1 19.93                   76.41                       54.49                 \n",
       "2 14.17                   85.00                       66.46                 \n",
       "3 11.58                   86.32                       62.63                 \n",
       "4 14.32                   83.26                       59.25                 \n",
       "5  5.24                   93.19                       75.16                 \n",
       "6  9.94                   88.12                       67.13                 \n",
       "  pct_RPLCMNT_FRMS_CEN_2010 pct_BILQ_Mailout_count_CEN_2010 has_superfund\n",
       "1 7.64                      0                               0            \n",
       "2 5.63                      0                               0            \n",
       "3 6.58                      0                               0            \n",
       "4 9.25                      0                               0            \n",
       "5 0.00                      0                               0            \n",
       "6 0.00                      0                               0            "
      ]
     },
     "metadata": {},
     "output_type": "display_data"
    }
   ],
   "source": [
    "# Overview of the dataset\n",
    "head(sf_block)"
   ]
  },
  {
   "cell_type": "markdown",
   "metadata": {},
   "source": [
    "#### Drop columns that are not useful for prediction and covert currency columns to numeric"
   ]
  },
  {
   "cell_type": "code",
   "execution_count": 4,
   "metadata": {},
   "outputs": [],
   "source": [
    "# MOE is margin of error is columsn that contain confidence level of ACS survey, we only need the main estimate so we drop these\n",
    "sf_block <- sf_block %>% select(-contains('MOE'))"
   ]
  },
  {
   "cell_type": "code",
   "execution_count": 5,
   "metadata": {},
   "outputs": [],
   "source": [
    "# We again drop block id, and other states, counties names and keep only useful covariates\n",
    "sf_block <- sf_block %>% select(-c('FIPS_Block_Group','State','State_name','County','County_name','Tract','Block_Group','Flag'))"
   ]
  },
  {
   "cell_type": "code",
   "execution_count": 6,
   "metadata": {},
   "outputs": [],
   "source": [
    "# Convert currency to numeric\n",
    "sf_block$Med_HHD_Inc_BG_ACS_09_13 <- parse_number(gsub(\"\\\\$\",\"\",sf_block$Med_HHD_Inc_BG_ACS_09_13))\n",
    "sf_block$Med_HHD_Inc_TR_ACS_09_13 <- parse_number(gsub(\"\\\\$\",\"\",sf_block$Med_HHD_Inc_TR_ACS_09_13))\n",
    "sf_block$Aggregate_HH_INC_ACS_09_13 <- parse_number(gsub(\"\\\\$\",\"\",sf_block$Aggregate_HH_INC_ACS_09_13))\n",
    "sf_block$Med_House_Value_BG_ACS_09_13 <- parse_number(gsub(\"\\\\$\",\"\",sf_block$Med_House_Value_BG_ACS_09_13))\n",
    "sf_block$Med_house_value_TR_ACS_09_13 <- parse_number(gsub(\"\\\\$\",\"\",sf_block$Med_house_value_TR_ACS_09_13))\n",
    "sf_block$Aggr_House_Value_ACS_09_13 <- parse_number(gsub(\"\\\\$\",\"\",sf_block$Aggr_House_Value_ACS_09_13))\n",
    "sf_block$avg_Agg_HH_INC_ACS_09_13 <- parse_number(gsub(\"\\\\$\",\"\",sf_block$avg_Agg_HH_INC_ACS_09_13))\n",
    "sf_block$avg_Agg_House_Value_ACS_09_13 <- parse_number(gsub(\"\\\\$\",\"\",sf_block$avg_Agg_House_Value_ACS_09_13))"
   ]
  },
  {
   "cell_type": "code",
   "execution_count": 7,
   "metadata": {},
   "outputs": [],
   "source": [
    "# Convert target variable 'has_superfund' into factor\n",
    "sf_block$has_superfund <- as.factor(sf_block$has_superfund)\n",
    "levels(sf_block$has_superfund) <- c('No', 'Yes')"
   ]
  },
  {
   "cell_type": "markdown",
   "metadata": {},
   "source": [
    "#### Drop highly correlated columns and deal with NA values"
   ]
  },
  {
   "cell_type": "code",
   "execution_count": 8,
   "metadata": {},
   "outputs": [
    {
     "data": {
      "text/html": [
       "<ol class=list-inline>\n",
       "\t<li>6</li>\n",
       "\t<li>7</li>\n",
       "\t<li>9</li>\n",
       "\t<li>10</li>\n",
       "\t<li>11</li>\n",
       "\t<li>14</li>\n",
       "\t<li>18</li>\n",
       "\t<li>19</li>\n",
       "\t<li>28</li>\n",
       "\t<li>41</li>\n",
       "\t<li>42</li>\n",
       "\t<li>43</li>\n",
       "\t<li>46</li>\n",
       "\t<li>48</li>\n",
       "\t<li>49</li>\n",
       "\t<li>51</li>\n",
       "\t<li>57</li>\n",
       "\t<li>58</li>\n",
       "\t<li>59</li>\n",
       "\t<li>60</li>\n",
       "\t<li>61</li>\n",
       "\t<li>70</li>\n",
       "\t<li>71</li>\n",
       "\t<li>72</li>\n",
       "\t<li>73</li>\n",
       "\t<li>74</li>\n",
       "\t<li>75</li>\n",
       "\t<li>76</li>\n",
       "\t<li>80</li>\n",
       "\t<li>81</li>\n",
       "\t<li>82</li>\n",
       "\t<li>83</li>\n",
       "\t<li>84</li>\n",
       "\t<li>86</li>\n",
       "\t<li>87</li>\n",
       "\t<li>88</li>\n",
       "\t<li>89</li>\n",
       "\t<li>90</li>\n",
       "\t<li>102</li>\n",
       "\t<li>105</li>\n",
       "\t<li>109</li>\n",
       "\t<li>110</li>\n",
       "\t<li>115</li>\n",
       "\t<li>118</li>\n",
       "\t<li>135</li>\n",
       "\t<li>136</li>\n",
       "\t<li>137</li>\n",
       "\t<li>144</li>\n",
       "\t<li>145</li>\n",
       "\t<li>152</li>\n",
       "\t<li>153</li>\n",
       "\t<li>161</li>\n",
       "\t<li>168</li>\n",
       "\t<li>169</li>\n",
       "\t<li>171</li>\n",
       "\t<li>172</li>\n",
       "\t<li>173</li>\n",
       "\t<li>174</li>\n",
       "\t<li>177</li>\n",
       "\t<li>178</li>\n",
       "\t<li>179</li>\n",
       "\t<li>181</li>\n",
       "\t<li>182</li>\n",
       "\t<li>183</li>\n",
       "\t<li>184</li>\n",
       "\t<li>185</li>\n",
       "\t<li>186</li>\n",
       "\t<li>189</li>\n",
       "\t<li>190</li>\n",
       "\t<li>191</li>\n",
       "\t<li>192</li>\n",
       "\t<li>193</li>\n",
       "\t<li>196</li>\n",
       "\t<li>204</li>\n",
       "\t<li>206</li>\n",
       "\t<li>207</li>\n",
       "\t<li>208</li>\n",
       "\t<li>209</li>\n",
       "\t<li>210</li>\n",
       "\t<li>211</li>\n",
       "\t<li>213</li>\n",
       "\t<li>214</li>\n",
       "\t<li>216</li>\n",
       "\t<li>8</li>\n",
       "\t<li>12</li>\n",
       "\t<li>16</li>\n",
       "\t<li>20</li>\n",
       "\t<li>22</li>\n",
       "\t<li>17</li>\n",
       "\t<li>24</li>\n",
       "\t<li>29</li>\n",
       "\t<li>31</li>\n",
       "\t<li>33</li>\n",
       "\t<li>35</li>\n",
       "\t<li>37</li>\n",
       "\t<li>27</li>\n",
       "\t<li>62</li>\n",
       "\t<li>64</li>\n",
       "\t<li>63</li>\n",
       "\t<li>66</li>\n",
       "\t<li>67</li>\n",
       "\t<li>68</li>\n",
       "\t<li>15</li>\n",
       "\t<li>78</li>\n",
       "\t<li>21</li>\n",
       "\t<li>99</li>\n",
       "\t<li>45</li>\n",
       "\t<li>112</li>\n",
       "\t<li>4</li>\n",
       "\t<li>119</li>\n",
       "\t<li>120</li>\n",
       "\t<li>127</li>\n",
       "\t<li>129</li>\n",
       "\t<li>133</li>\n",
       "\t<li>138</li>\n",
       "\t<li>140</li>\n",
       "\t<li>32</li>\n",
       "\t<li>142</li>\n",
       "\t<li>36</li>\n",
       "\t<li>146</li>\n",
       "\t<li>38</li>\n",
       "\t<li>39</li>\n",
       "\t<li>40</li>\n",
       "\t<li>44</li>\n",
       "\t<li>47</li>\n",
       "\t<li>134</li>\n",
       "\t<li>50</li>\n",
       "\t<li>53</li>\n",
       "\t<li>139</li>\n",
       "\t<li>54</li>\n",
       "\t<li>55</li>\n",
       "\t<li>56</li>\n",
       "\t<li>65</li>\n",
       "\t<li>175</li>\n",
       "\t<li>170</li>\n",
       "\t<li>77</li>\n",
       "\t<li>79</li>\n",
       "\t<li>101</li>\n",
       "\t<li>194</li>\n",
       "\t<li>195</li>\n",
       "\t<li>197</li>\n",
       "\t<li>92</li>\n",
       "\t<li>93</li>\n",
       "\t<li>198</li>\n",
       "\t<li>94</li>\n",
       "\t<li>95</li>\n",
       "\t<li>96</li>\n",
       "\t<li>98</li>\n",
       "\t<li>108</li>\n",
       "\t<li>111</li>\n",
       "</ol>\n"
      ],
      "text/latex": [
       "\\begin{enumerate*}\n",
       "\\item 6\n",
       "\\item 7\n",
       "\\item 9\n",
       "\\item 10\n",
       "\\item 11\n",
       "\\item 14\n",
       "\\item 18\n",
       "\\item 19\n",
       "\\item 28\n",
       "\\item 41\n",
       "\\item 42\n",
       "\\item 43\n",
       "\\item 46\n",
       "\\item 48\n",
       "\\item 49\n",
       "\\item 51\n",
       "\\item 57\n",
       "\\item 58\n",
       "\\item 59\n",
       "\\item 60\n",
       "\\item 61\n",
       "\\item 70\n",
       "\\item 71\n",
       "\\item 72\n",
       "\\item 73\n",
       "\\item 74\n",
       "\\item 75\n",
       "\\item 76\n",
       "\\item 80\n",
       "\\item 81\n",
       "\\item 82\n",
       "\\item 83\n",
       "\\item 84\n",
       "\\item 86\n",
       "\\item 87\n",
       "\\item 88\n",
       "\\item 89\n",
       "\\item 90\n",
       "\\item 102\n",
       "\\item 105\n",
       "\\item 109\n",
       "\\item 110\n",
       "\\item 115\n",
       "\\item 118\n",
       "\\item 135\n",
       "\\item 136\n",
       "\\item 137\n",
       "\\item 144\n",
       "\\item 145\n",
       "\\item 152\n",
       "\\item 153\n",
       "\\item 161\n",
       "\\item 168\n",
       "\\item 169\n",
       "\\item 171\n",
       "\\item 172\n",
       "\\item 173\n",
       "\\item 174\n",
       "\\item 177\n",
       "\\item 178\n",
       "\\item 179\n",
       "\\item 181\n",
       "\\item 182\n",
       "\\item 183\n",
       "\\item 184\n",
       "\\item 185\n",
       "\\item 186\n",
       "\\item 189\n",
       "\\item 190\n",
       "\\item 191\n",
       "\\item 192\n",
       "\\item 193\n",
       "\\item 196\n",
       "\\item 204\n",
       "\\item 206\n",
       "\\item 207\n",
       "\\item 208\n",
       "\\item 209\n",
       "\\item 210\n",
       "\\item 211\n",
       "\\item 213\n",
       "\\item 214\n",
       "\\item 216\n",
       "\\item 8\n",
       "\\item 12\n",
       "\\item 16\n",
       "\\item 20\n",
       "\\item 22\n",
       "\\item 17\n",
       "\\item 24\n",
       "\\item 29\n",
       "\\item 31\n",
       "\\item 33\n",
       "\\item 35\n",
       "\\item 37\n",
       "\\item 27\n",
       "\\item 62\n",
       "\\item 64\n",
       "\\item 63\n",
       "\\item 66\n",
       "\\item 67\n",
       "\\item 68\n",
       "\\item 15\n",
       "\\item 78\n",
       "\\item 21\n",
       "\\item 99\n",
       "\\item 45\n",
       "\\item 112\n",
       "\\item 4\n",
       "\\item 119\n",
       "\\item 120\n",
       "\\item 127\n",
       "\\item 129\n",
       "\\item 133\n",
       "\\item 138\n",
       "\\item 140\n",
       "\\item 32\n",
       "\\item 142\n",
       "\\item 36\n",
       "\\item 146\n",
       "\\item 38\n",
       "\\item 39\n",
       "\\item 40\n",
       "\\item 44\n",
       "\\item 47\n",
       "\\item 134\n",
       "\\item 50\n",
       "\\item 53\n",
       "\\item 139\n",
       "\\item 54\n",
       "\\item 55\n",
       "\\item 56\n",
       "\\item 65\n",
       "\\item 175\n",
       "\\item 170\n",
       "\\item 77\n",
       "\\item 79\n",
       "\\item 101\n",
       "\\item 194\n",
       "\\item 195\n",
       "\\item 197\n",
       "\\item 92\n",
       "\\item 93\n",
       "\\item 198\n",
       "\\item 94\n",
       "\\item 95\n",
       "\\item 96\n",
       "\\item 98\n",
       "\\item 108\n",
       "\\item 111\n",
       "\\end{enumerate*}\n"
      ],
      "text/markdown": [
       "1. 6\n",
       "2. 7\n",
       "3. 9\n",
       "4. 10\n",
       "5. 11\n",
       "6. 14\n",
       "7. 18\n",
       "8. 19\n",
       "9. 28\n",
       "10. 41\n",
       "11. 42\n",
       "12. 43\n",
       "13. 46\n",
       "14. 48\n",
       "15. 49\n",
       "16. 51\n",
       "17. 57\n",
       "18. 58\n",
       "19. 59\n",
       "20. 60\n",
       "21. 61\n",
       "22. 70\n",
       "23. 71\n",
       "24. 72\n",
       "25. 73\n",
       "26. 74\n",
       "27. 75\n",
       "28. 76\n",
       "29. 80\n",
       "30. 81\n",
       "31. 82\n",
       "32. 83\n",
       "33. 84\n",
       "34. 86\n",
       "35. 87\n",
       "36. 88\n",
       "37. 89\n",
       "38. 90\n",
       "39. 102\n",
       "40. 105\n",
       "41. 109\n",
       "42. 110\n",
       "43. 115\n",
       "44. 118\n",
       "45. 135\n",
       "46. 136\n",
       "47. 137\n",
       "48. 144\n",
       "49. 145\n",
       "50. 152\n",
       "51. 153\n",
       "52. 161\n",
       "53. 168\n",
       "54. 169\n",
       "55. 171\n",
       "56. 172\n",
       "57. 173\n",
       "58. 174\n",
       "59. 177\n",
       "60. 178\n",
       "61. 179\n",
       "62. 181\n",
       "63. 182\n",
       "64. 183\n",
       "65. 184\n",
       "66. 185\n",
       "67. 186\n",
       "68. 189\n",
       "69. 190\n",
       "70. 191\n",
       "71. 192\n",
       "72. 193\n",
       "73. 196\n",
       "74. 204\n",
       "75. 206\n",
       "76. 207\n",
       "77. 208\n",
       "78. 209\n",
       "79. 210\n",
       "80. 211\n",
       "81. 213\n",
       "82. 214\n",
       "83. 216\n",
       "84. 8\n",
       "85. 12\n",
       "86. 16\n",
       "87. 20\n",
       "88. 22\n",
       "89. 17\n",
       "90. 24\n",
       "91. 29\n",
       "92. 31\n",
       "93. 33\n",
       "94. 35\n",
       "95. 37\n",
       "96. 27\n",
       "97. 62\n",
       "98. 64\n",
       "99. 63\n",
       "100. 66\n",
       "101. 67\n",
       "102. 68\n",
       "103. 15\n",
       "104. 78\n",
       "105. 21\n",
       "106. 99\n",
       "107. 45\n",
       "108. 112\n",
       "109. 4\n",
       "110. 119\n",
       "111. 120\n",
       "112. 127\n",
       "113. 129\n",
       "114. 133\n",
       "115. 138\n",
       "116. 140\n",
       "117. 32\n",
       "118. 142\n",
       "119. 36\n",
       "120. 146\n",
       "121. 38\n",
       "122. 39\n",
       "123. 40\n",
       "124. 44\n",
       "125. 47\n",
       "126. 134\n",
       "127. 50\n",
       "128. 53\n",
       "129. 139\n",
       "130. 54\n",
       "131. 55\n",
       "132. 56\n",
       "133. 65\n",
       "134. 175\n",
       "135. 170\n",
       "136. 77\n",
       "137. 79\n",
       "138. 101\n",
       "139. 194\n",
       "140. 195\n",
       "141. 197\n",
       "142. 92\n",
       "143. 93\n",
       "144. 198\n",
       "145. 94\n",
       "146. 95\n",
       "147. 96\n",
       "148. 98\n",
       "149. 108\n",
       "150. 111\n",
       "\n",
       "\n"
      ],
      "text/plain": [
       "  [1]   6   7   9  10  11  14  18  19  28  41  42  43  46  48  49  51  57  58\n",
       " [19]  59  60  61  70  71  72  73  74  75  76  80  81  82  83  84  86  87  88\n",
       " [37]  89  90 102 105 109 110 115 118 135 136 137 144 145 152 153 161 168 169\n",
       " [55] 171 172 173 174 177 178 179 181 182 183 184 185 186 189 190 191 192 193\n",
       " [73] 196 204 206 207 208 209 210 211 213 214 216   8  12  16  20  22  17  24\n",
       " [91]  29  31  33  35  37  27  62  64  63  66  67  68  15  78  21  99  45 112\n",
       "[109]   4 119 120 127 129 133 138 140  32 142  36 146  38  39  40  44  47 134\n",
       "[127]  50  53 139  54  55  56  65 175 170  77  79 101 194 195 197  92  93 198\n",
       "[145]  94  95  96  98 108 111"
      ]
     },
     "metadata": {},
     "output_type": "display_data"
    }
   ],
   "source": [
    "# In the Census and American Community Survey, there are many variables that are highly correlated with each other such as\n",
    "# total race vs its composition races in a census block; so we will drop these highly correlated columns\n",
    "correlat <- cor(sf_block[, -217], use=\"pairwise.complete.obs\")\n",
    "findCorrelation(correlat, cutoff=0.7, verbose=FALSE)"
   ]
  },
  {
   "cell_type": "code",
   "execution_count": 9,
   "metadata": {},
   "outputs": [],
   "source": [
    "# Deselect the above columns\n",
    "sf_block <- sf_block %>% select(-c(6,7,9,10,11,14,18,19,28,41,42,43,46,48,49,51,57,58,59,60,61,70,71,72,73,74,75,76,80,81,82,83,84,86,87,88,89,90,102,105,109,110,115,118,135,136,137,144,145,152,153,161,168,169,171,172,173,174,177,178,179,181,182,183,184,185,186,189,190,191,192,193,196,204,206,207,208,209,210,211,213,214,216,8,12,16,20,22,17,24,29,31,33,35,37,27,62,64,63,66,67,68,15,78,21,99,45,112,4,119,120,127,129,133,138,140,32,142,36,146,38,39,40,44,47,134,50,53,139,54,55,56,65,175,170,77,79,101,194,195,197,92,93,198,94,95,96,98,108,111))"
   ]
  },
  {
   "cell_type": "code",
   "execution_count": 10,
   "metadata": {},
   "outputs": [
    {
     "data": {
      "text/plain": [
       "   LAND_AREA          AIAN_LAND       URBANIZED_AREA_POP_CEN_2010\n",
       " Min.   :    0.00   Min.   :0.00000   Min.   :    0              \n",
       " 1st Qu.:    0.19   1st Qu.:0.00000   1st Qu.:    0              \n",
       " Median :    0.50   Median :0.00000   Median :  960              \n",
       " Mean   :   16.05   Mean   :0.02205   Mean   : 1013              \n",
       " 3rd Qu.:    3.36   3rd Qu.:0.00000   3rd Qu.: 1508              \n",
       " Max.   :61079.28   Max.   :1.00000   Max.   :31777              \n",
       " NA's   :20         NA's   :20        NA's   :20                 \n",
       " RURAL_POP_CEN_2010 Pop_under_5_ACS_09_13 Pop_65plus_ACS_09_13\n",
       " Min.   :   0.0     Min.   :   0.00       Min.   :    0.0     \n",
       " 1st Qu.:   0.0     1st Qu.:  34.00       1st Qu.:   98.0     \n",
       " Median :   0.0     Median :  70.00       Median :  162.0     \n",
       " Mean   : 271.1     Mean   :  91.98       Mean   :  192.5     \n",
       " 3rd Qu.: 230.0     3rd Qu.: 123.00       3rd Qu.:  248.0     \n",
       " Max.   :8126.0     Max.   :6607.00       Max.   :20842.0     \n",
       " NA's   :20         NA's   :21            NA's   :21          \n",
       " Inst_GQ_CEN_2010   Non_Inst_GQ_CEN_2010 NH_White_alone_ACS_09_13\n",
       " Min.   :    0.00   Min.   :    0.00     Min.   :    0.0         \n",
       " 1st Qu.:    0.00   1st Qu.:    0.00     1st Qu.:  427.0         \n",
       " Median :    0.00   Median :    0.00     Median :  794.0         \n",
       " Mean   :   18.24   Mean   :   18.19     Mean   :  894.5         \n",
       " 3rd Qu.:    0.00   3rd Qu.:    1.00     3rd Qu.: 1223.0         \n",
       " Max.   :12118.00   Max.   :19338.00     Max.   :31254.0         \n",
       " NA's   :20         NA's   :20           NA's   :21              \n",
       " NH_AIAN_alone_ACS_09_13 Diff_HU_1yr_Ago_ACS_09_13 Sngl_Prns_HHD_ACS_09_13\n",
       " Min.   :   0.000        Min.   :    0.0           Min.   :   0.0         \n",
       " 1st Qu.:   0.000        1st Qu.:   67.0           1st Qu.:  70.0         \n",
       " Median :   0.000        Median :  144.0           Median : 117.0         \n",
       " Mean   :   9.358        Mean   :  211.1           Mean   : 145.6         \n",
       " 3rd Qu.:   0.000        3rd Qu.:  273.0           3rd Qu.: 187.0         \n",
       " Max.   :3536.000        Max.   :15871.0           Max.   :3676.0         \n",
       " NA's   :21              NA's   :21                NA's   :21             \n",
       " Tot_Vacant_Units_CEN_2010 Single_Unit_ACS_09_13 No_Plumb_ACS_09_13\n",
       " Min.   :    0.00          Min.   :    0.0       Min.   :   0.0    \n",
       " 1st Qu.:   24.00          1st Qu.:  238.0       1st Qu.:   0.0    \n",
       " Median :   43.00          Median :  364.0       Median :   0.0    \n",
       " Mean   :   69.21          Mean   :  410.1       Mean   :  12.3    \n",
       " 3rd Qu.:   75.00          3rd Qu.:  528.0       3rd Qu.:  15.0    \n",
       " Max.   :10828.00          Max.   :21961.0       Max.   :1436.0    \n",
       " NA's   :20                NA's   :21            NA's   :2615      \n",
       " Med_house_value_TR_ACS_09_13 TEA_Mail_Out_Mail_Back_CEN_2010\n",
       " Min.   :  10300              Min.   :    0.0                \n",
       " 1st Qu.: 103000              1st Qu.:  347.0                \n",
       " Median : 159500              Median :  497.0                \n",
       " Mean   : 217013              Mean   :  544.5                \n",
       " 3rd Qu.: 270175              3rd Qu.:  703.0                \n",
       " Max.   :1000001              Max.   :17122.0                \n",
       " NA's   :2672                 NA's   :600                    \n",
       " TEA_Update_Leave_CEN_2010 Vacants_CEN_2010  Deletes_CEN_2010 \n",
       " Min.   :   0.00           Min.   :   0.00   Min.   :  0.000  \n",
       " 1st Qu.:   0.00           1st Qu.:   9.00   1st Qu.:  0.000  \n",
       " Median :   0.00           Median :  16.00   Median :  0.000  \n",
       " Mean   :  47.32           Mean   :  32.82   Mean   :  2.047  \n",
       " 3rd Qu.:   0.00           3rd Qu.:  32.00   3rd Qu.:  0.000  \n",
       " Max.   :7924.00           Max.   :6052.00   Max.   :996.000  \n",
       " NA's   :600               NA's   :600       NA's   :600      \n",
       " BILQ_Frms_CEN_2010 Mail_Return_Rate_CEN_2010 pct_URBANIZED_AREA_POP_CEN_2010\n",
       " Min.   :   0.0     Min.   :  0.00            Min.   :  0                    \n",
       " 1st Qu.:   0.0     1st Qu.: 74.00            1st Qu.:  0                    \n",
       " Median :   0.0     Median : 80.10            Median :100                    \n",
       " Mean   :  32.3     Mean   : 78.91            Mean   : 69                    \n",
       " 3rd Qu.:   0.0     3rd Qu.: 85.20            3rd Qu.:100                    \n",
       " Max.   :3697.0     Max.   :100.00            Max.   :100                    \n",
       " NA's   :600        NA's   :2911              NA's   :950                    \n",
       " pct_URBAN_CLUSTER_POP_CEN_2010 pct_Females_CEN_2010 pct_Females_ACS_09_13\n",
       " Min.   :  0.0                  Min.   :  0.00       Min.   :  0.00       \n",
       " 1st Qu.:  0.0                  1st Qu.: 49.58       1st Qu.: 47.56       \n",
       " Median :  0.0                  Median : 51.00       Median : 50.97       \n",
       " Mean   : 10.3                  Mean   : 50.99       Mean   : 50.97       \n",
       " 3rd Qu.:  0.0                  3rd Qu.: 52.63       3rd Qu.: 54.59       \n",
       " Max.   :100.0                  Max.   :100.00       Max.   :100.00       \n",
       " NA's   :950                    NA's   :950          NA's   :1099         \n",
       " pct_Pop_Under_5_CEN_2010 pct_Pop_Under_5_ACS_09_13 pct_Pop_5_17_CEN_2010\n",
       " Min.   : 0.000           Min.   : 0.000            Min.   : 0.00        \n",
       " 1st Qu.: 4.840           1st Qu.: 3.200            1st Qu.:14.38        \n",
       " Median : 6.120           Median : 5.590            Median :17.33        \n",
       " Mean   : 6.372           Mean   : 6.146            Mean   :17.01        \n",
       " 3rd Qu.: 7.660           3rd Qu.: 8.420            3rd Qu.:20.16        \n",
       " Max.   :66.670           Max.   :57.450            Max.   :90.80        \n",
       " NA's   :950              NA's   :1099              NA's   :950          \n",
       " pct_Pop_5_17_ACS_09_13 pct_Pop_18_24_ACS_09_13 pct_Pop_25_44_ACS_09_13\n",
       " Min.   : 0.00          Min.   :  0.000         Min.   :  0.00         \n",
       " 1st Qu.:11.77          1st Qu.:  5.110         1st Qu.: 20.15         \n",
       " Median :16.51          Median :  8.030         Median : 25.14         \n",
       " Mean   :16.48          Mean   :  9.635         Mean   : 25.89         \n",
       " 3rd Qu.:21.16          3rd Qu.: 11.720         3rd Qu.: 30.70         \n",
       " Max.   :89.71          Max.   :100.000         Max.   :100.00         \n",
       " NA's   :1099           NA's   :1099            NA's   :1099           \n",
       " pct_Pop_45_64_CEN_2010 pct_Pop_45_64_ACS_09_13 pct_NH_White_alone_ACS_09_13\n",
       " Min.   :  0.00         Min.   :  0.00          Min.   :  0.00              \n",
       " 1st Qu.: 23.11         1st Qu.: 21.49          1st Qu.: 40.25              \n",
       " Median : 27.27         Median : 27.13          Median : 75.00              \n",
       " Mean   : 26.97         Mean   : 27.20          Mean   : 64.00              \n",
       " 3rd Qu.: 31.17         3rd Qu.: 32.79          3rd Qu.: 91.52              \n",
       " Max.   :100.00         Max.   :100.00          Max.   :100.00              \n",
       " NA's   :950            NA's   :1099            NA's   :1099                \n",
       " pct_NH_Blk_alone_ACS_09_13 pct_NH_Asian_alone_ACS_09_13\n",
       " Min.   :  0.00             Min.   :  0.000             \n",
       " 1st Qu.:  0.00             1st Qu.:  0.000             \n",
       " Median :  2.23             Median :  0.370             \n",
       " Mean   : 12.83             Mean   :  4.176             \n",
       " 3rd Qu.: 13.24             3rd Qu.:  4.000             \n",
       " Max.   :100.00             Max.   :100.000             \n",
       " NA's   :1099               NA's   :1099                \n",
       " pct_NH_NHOPI_alone_CEN_2010 pct_NH_NHOPI_alone_ACS_09_13\n",
       " Min.   : 0.0000             Min.   :  0.0000            \n",
       " 1st Qu.: 0.0000             1st Qu.:  0.0000            \n",
       " Median : 0.0000             Median :  0.0000            \n",
       " Mean   : 0.1389             Mean   :  0.1368            \n",
       " 3rd Qu.: 0.0700             3rd Qu.:  0.0000            \n",
       " Max.   :85.8800             Max.   :100.0000            \n",
       " NA's   :950                 NA's   :1099                \n",
       " pct_NH_SOR_alone_CEN_2010 pct_NH_SOR_alone_ACS_09_13\n",
       " Min.   : 0.0000           Min.   : 0.0000           \n",
       " 1st Qu.: 0.0000           1st Qu.: 0.0000           \n",
       " Median : 0.0800           Median : 0.0000           \n",
       " Mean   : 0.1899           Mean   : 0.1849           \n",
       " 3rd Qu.: 0.2300           3rd Qu.: 0.0000           \n",
       " Max.   :40.1100           Max.   :79.5500           \n",
       " NA's   :950               NA's   :1099              \n",
       " pct_Pop_25yrs_Over_ACS_09_13 pct_Not_HS_Grad_ACS_09_13 pct_College_ACS_09_13\n",
       " Min.   :  0.00               Min.   :  0.00            Min.   :  0.00       \n",
       " 1st Qu.: 61.78               1st Qu.:  5.19            1st Qu.: 12.04       \n",
       " Median : 68.22               Median : 11.27            Median : 21.94       \n",
       " Mean   : 67.74               Mean   : 14.88            Mean   : 27.31       \n",
       " 3rd Qu.: 74.37               3rd Qu.: 20.92            3rd Qu.: 38.38       \n",
       " Max.   :100.00               Max.   :100.00            Max.   :100.00       \n",
       " NA's   :1099                 NA's   :1140              NA's   :1140         \n",
       " pct_Prs_Blw_Pov_Lev_ACS_09_13 pct_One_Health_Ins_ACS_09_13\n",
       " Min.   :  0.00                Min.   :  0.00              \n",
       " 1st Qu.:  5.16                1st Qu.: 60.23              \n",
       " Median : 12.09                Median : 68.80              \n",
       " Mean   : 16.65                Mean   : 67.64              \n",
       " 3rd Qu.: 23.72                3rd Qu.: 76.51              \n",
       " Max.   :100.00                Max.   :100.00              \n",
       " NA's   :1465                  NA's   :1099                \n",
       " pct_TwoPHealth_Ins_ACS_09_13 pct_No_Health_Ins_ACS_09_13\n",
       " Min.   :  0.00               Min.   :  0.00             \n",
       " 1st Qu.: 10.34               1st Qu.:  6.34             \n",
       " Median : 15.30               Median : 12.22             \n",
       " Mean   : 16.43               Mean   : 14.53             \n",
       " 3rd Qu.: 20.96               3rd Qu.: 20.25             \n",
       " Max.   :100.00               Max.   :100.00             \n",
       " NA's   :1099                 NA's   :1099               \n",
       " pct_Pop_1yr_Over_ACS_09_13 pct_Diff_HU_1yr_Ago_ACS_09_13\n",
       " Min.   :  0.00             Min.   :  0.00               \n",
       " 1st Qu.: 98.18             1st Qu.:  6.38               \n",
       " Median : 99.29             Median : 11.91               \n",
       " Mean   : 97.71             Mean   : 14.82               \n",
       " 3rd Qu.:100.00             3rd Qu.: 20.16               \n",
       " Max.   :100.00             Max.   :100.00               \n",
       " NA's   :1099               NA's   :3631                 \n",
       " pct_ENG_VW_SPAN_ACS_09_13 pct_ENG_VW_INDOEURO_ACS_09_13\n",
       " Min.   :  0.00            Min.   :  0.0000             \n",
       " 1st Qu.:  0.00            1st Qu.:  0.0000             \n",
       " Median :  0.00            Median :  0.0000             \n",
       " Mean   :  3.74            Mean   :  0.6895             \n",
       " 3rd Qu.:  2.21            3rd Qu.:  0.0000             \n",
       " Max.   :100.00            Max.   :100.0000             \n",
       " NA's   :1564              NA's   :1564                 \n",
       " pct_ENG_VW_API_ACS_09_13 pct_ENG_VW_OTHER_ACS_09_13 pct_Female_No_HB_ACS_09_13\n",
       " Min.   :  0.0000         Min.   : 0.0000            Min.   :  0.00            \n",
       " 1st Qu.:  0.0000         1st Qu.: 0.0000            1st Qu.:  5.82            \n",
       " Median :  0.0000         Median : 0.0000            Median : 11.11            \n",
       " Mean   :  0.8178         Mean   : 0.1603            Mean   : 13.75            \n",
       " 3rd Qu.:  0.0000         3rd Qu.: 0.0000            3rd Qu.: 18.86            \n",
       " Max.   :100.0000         Max.   :61.5000            Max.   :100.00            \n",
       " NA's   :1564             NA's   :1564               NA's   :1564              \n",
       " pct_Sngl_Prns_HHD_ACS_09_13 pct_HHD_Moved_in_ACS_09_13\n",
       " Min.   :  0.00              Min.   :  0.00            \n",
       " 1st Qu.: 17.19              1st Qu.:  8.00            \n",
       " Median : 25.59              Median : 14.20            \n",
       " Mean   : 27.35              Mean   : 16.57            \n",
       " 3rd Qu.: 35.51              3rd Qu.: 22.64            \n",
       " Max.   :100.00              Max.   :100.00            \n",
       " NA's   :1564                NA's   :1564              \n",
       " pct_PUB_ASST_INC_ACS_09_13 pct_MLT_U2_9_STRC_ACS_09_13 pct_MLT_U10p_ACS_09_13\n",
       " Min.   :  0.000            Min.   :  0.00              Min.   :  0.00        \n",
       " 1st Qu.:  0.000            1st Qu.:  0.00              1st Qu.:  0.00        \n",
       " Median :  1.500            Median :  6.19              Median :  0.00        \n",
       " Mean   :  3.114            Mean   : 13.31              Mean   : 10.78        \n",
       " 3rd Qu.:  4.270            3rd Qu.: 19.66              3rd Qu.: 12.32        \n",
       " Max.   :100.000            Max.   :100.00              Max.   :100.00        \n",
       " NA's   :1564               NA's   :1519                NA's   :1519          \n",
       " pct_Mobile_Homes_ACS_09_13 pct_Crowd_Occp_U_ACS_09_13 pct_NO_PH_SRVC_ACS_09_13\n",
       " Min.   :  0.000            Min.   :  0.00             Min.   :  0.000         \n",
       " 1st Qu.:  0.000            1st Qu.:  0.00             1st Qu.:  0.000         \n",
       " Median :  0.000            Median :  0.00             Median :  1.170         \n",
       " Mean   :  6.117            Mean   :  3.45             Mean   :  2.582         \n",
       " 3rd Qu.:  5.840            3rd Qu.:  4.20             3rd Qu.:  3.640         \n",
       " Max.   :100.000            Max.   :100.00             Max.   :100.000         \n",
       " NA's   :1519               NA's   :1564               NA's   :1564            \n",
       " pct_Recent_Built_HU_ACS_09_13 pct_Census_UAA_CEN_2010\n",
       " Min.   :  0.0000              Min.   :  0.00         \n",
       " 1st Qu.:  0.0000              1st Qu.:  3.62         \n",
       " Median :  0.0000              Median :  7.38         \n",
       " Mean   :  0.4843              Mean   : 10.26         \n",
       " 3rd Qu.:  0.0000              3rd Qu.: 13.58         \n",
       " Max.   :100.0000              Max.   :100.00         \n",
       " NA's   :1519                  NA's   :2742           \n",
       " pct_RPLCMNT_FRMS_CEN_2010 has_superfund\n",
       " Min.   :  0.000           No :219083   \n",
       " 1st Qu.:  0.000           Yes:  1271   \n",
       " Median :  0.000                        \n",
       " Mean   :  2.841                        \n",
       " 3rd Qu.:  6.150                        \n",
       " Max.   :100.000                        \n",
       " NA's   :2742                           "
      ]
     },
     "metadata": {},
     "output_type": "display_data"
    }
   ],
   "source": [
    "# Overview of the dataset again\n",
    "summary(sf_block)"
   ]
  },
  {
   "cell_type": "markdown",
   "metadata": {},
   "source": [
    "We see that there is NA in every columns and we have more two hundred thousand samples hence let's use only rows with complete data"
   ]
  },
  {
   "cell_type": "code",
   "execution_count": 11,
   "metadata": {},
   "outputs": [],
   "source": [
    "# Retain complete cases of \n",
    "sf_block_completed <- sf_block[complete.cases(sf_block),]"
   ]
  },
  {
   "cell_type": "code",
   "execution_count": 12,
   "metadata": {},
   "outputs": [
    {
     "data": {
      "text/html": [
       "0"
      ],
      "text/latex": [
       "0"
      ],
      "text/markdown": [
       "0"
      ],
      "text/plain": [
       "[1] 0"
      ]
     },
     "metadata": {},
     "output_type": "display_data"
    }
   ],
   "source": [
    "# Is there missing data left?\n",
    "sum(is.na(sf_block_completed))"
   ]
  },
  {
   "cell_type": "code",
   "execution_count": 13,
   "metadata": {},
   "outputs": [
    {
     "name": "stdout",
     "output_type": "stream",
     "text": [
      "Classes 'tbl_df', 'tbl' and 'data.frame':\t213089 obs. of  67 variables:\n",
      " $ LAND_AREA                      : num  1.638 2.15 0.795 0.495 1.493 ...\n",
      " $ AIAN_LAND                      : num  0 0 0 0 0 0 0 0 0 0 ...\n",
      " $ URBANIZED_AREA_POP_CEN_2010    : num  524 1070 1003 1167 2549 ...\n",
      " $ RURAL_POP_CEN_2010             : num  174 144 0 0 0 0 0 0 0 0 ...\n",
      " $ Pop_under_5_ACS_09_13          : num  22 59 97 5 94 29 61 34 46 7 ...\n",
      " $ Pop_65plus_ACS_09_13           : num  14 143 98 131 308 132 225 384 195 135 ...\n",
      " $ Inst_GQ_CEN_2010               : num  0 0 0 181 0 0 0 0 0 0 ...\n",
      " $ Non_Inst_GQ_CEN_2010           : num  0 0 0 0 0 0 0 0 0 0 ...\n",
      " $ NH_White_alone_ACS_09_13       : num  552 1024 419 357 1802 ...\n",
      " $ NH_AIAN_alone_ACS_09_13        : num  0 10 0 0 15 0 22 0 0 0 ...\n",
      " $ Diff_HU_1yr_Ago_ACS_09_13      : num  38 132 140 238 299 129 138 142 108 85 ...\n",
      " $ Sngl_Prns_HHD_ACS_09_13        : num  28 94 137 180 218 142 96 162 148 123 ...\n",
      " $ Tot_Vacant_Units_CEN_2010      : num  21 38 34 45 48 22 18 26 23 34 ...\n",
      " $ Single_Unit_ACS_09_13          : num  178 438 359 356 984 272 466 693 436 196 ...\n",
      " $ No_Plumb_ACS_09_13             : num  17 56 21 28 21 26 16 0 0 0 ...\n",
      " $ Med_house_value_TR_ACS_09_13   : num  124800 124800 129200 129200 113800 ...\n",
      " $ TEA_Mail_Out_Mail_Back_CEN_2010: num  301 480 380 454 954 362 371 751 396 262 ...\n",
      " $ TEA_Update_Leave_CEN_2010      : num  0 0 0 0 0 0 0 0 0 0 ...\n",
      " $ Vacants_CEN_2010               : num  11 4 8 11 15 7 5 11 5 5 ...\n",
      " $ Deletes_CEN_2010               : num  0 0 0 0 0 0 0 0 0 0 ...\n",
      " $ BILQ_Frms_CEN_2010             : num  0 0 0 0 0 0 0 0 0 0 ...\n",
      " $ Mail_Return_Rate_CEN_2010      : num  81.3 84.8 80.2 82.3 80.7 76.2 88.5 82.9 82.2 79.7 ...\n",
      " $ pct_URBANIZED_AREA_POP_CEN_2010: num  75.1 88.1 100 100 100 ...\n",
      " $ pct_URBAN_CLUSTER_POP_CEN_2010 : num  0 0 0 0 0 0 0 0 0 0 ...\n",
      " $ pct_Females_CEN_2010           : num  51.1 50.1 56.3 50.7 52.9 ...\n",
      " $ pct_Females_ACS_09_13          : num  49.9 50.6 51.2 51.1 54.7 ...\n",
      " $ pct_Pop_Under_5_CEN_2010       : num  6.3 6.1 6.48 5.31 7.18 7.28 4.03 6.14 4.06 6.84 ...\n",
      " $ pct_Pop_Under_5_ACS_09_13      : num  3.45 5.04 7.01 0.51 3.97 4.2 5.61 1.79 4.76 1.54 ...\n",
      " $ pct_Pop_5_17_CEN_2010          : num  18.8 21.2 27.3 17.6 19.9 ...\n",
      " $ pct_Pop_5_17_ACS_09_13         : num  29.8 13.6 23.7 7.1 20.2 ...\n",
      " $ pct_Pop_18_24_ACS_09_13        : num  4.55 15.97 13.38 19.03 7.9 ...\n",
      " $ pct_Pop_25_44_ACS_09_13        : num  35.6 21 29.9 30.4 25.9 ...\n",
      " $ pct_Pop_45_64_CEN_2010         : num  30.1 26.2 21.1 26.6 24.7 ...\n",
      " $ pct_Pop_45_64_ACS_09_13        : num  24.3 32.2 18.9 29.5 28.9 ...\n",
      " $ pct_NH_White_alone_ACS_09_13   : num  86.7 87.5 30.3 36.7 76.2 ...\n",
      " $ pct_NH_Blk_alone_ACS_09_13     : num  13.34 5.38 58.5 62.45 18.51 ...\n",
      " $ pct_NH_Asian_alone_ACS_09_13   : num  0 0 6.29 0 0.51 9.84 0 0 0 0 ...\n",
      " $ pct_NH_NHOPI_alone_CEN_2010    : num  0 0 0 0 0 0.61 0 0.1 0 0.18 ...\n",
      " $ pct_NH_NHOPI_alone_ACS_09_13   : num  0 0 0 0 0 0 0 0 0 0 ...\n",
      " $ pct_NH_SOR_alone_CEN_2010      : num  0 0.08 0.1 0.17 0.12 0.49 0.11 0 0 0 ...\n",
      " $ pct_NH_SOR_alone_ACS_09_13     : num  0 0 0 0 0 ...\n",
      " $ pct_Pop_25yrs_Over_ACS_09_13   : num  62.2 65.4 55.9 73.3 67.9 ...\n",
      " $ pct_Not_HS_Grad_ACS_09_13      : num  12.4 22.9 20.3 26.2 11.3 ...\n",
      " $ pct_College_ACS_09_13          : num  36.9 21.4 19.4 22 19.4 ...\n",
      " $ pct_Prs_Blw_Pov_Lev_ACS_09_13  : num  13.53 8.97 16.2 13.99 11.53 ...\n",
      " $ pct_One_Health_Ins_ACS_09_13   : num  77.1 67.5 61.2 53.1 67.9 ...\n",
      " $ pct_TwoPHealth_Ins_ACS_09_13   : num  10.8 19.4 25.7 14.4 20.7 ...\n",
      " $ pct_No_Health_Ins_ACS_09_13    : num  7.22 13.15 8.68 16.36 10.9 ...\n",
      " $ pct_Pop_1yr_Over_ACS_09_13     : num  99.4 99.7 97 100 100 ...\n",
      " $ pct_Diff_HU_1yr_Ago_ACS_09_13  : num  6 11.3 10.4 24.5 12.6 ...\n",
      " $ pct_ENG_VW_SPAN_ACS_09_13      : num  0 0 0 0 2.68 0 0.72 0 0 0 ...\n",
      " $ pct_ENG_VW_INDOEURO_ACS_09_13  : num  0 0 0 0 0 0 0 0 0 0 ...\n",
      " $ pct_ENG_VW_API_ACS_09_13       : num  0 0 5.24 0 0 0 0 0 0 0 ...\n",
      " $ pct_ENG_VW_OTHER_ACS_09_13     : num  0 0 0 0 0 0 0 0 0 0 ...\n",
      " $ pct_Female_No_HB_ACS_09_13     : num  14.2 11.7 19.8 22.8 14.9 ...\n",
      " $ pct_Sngl_Prns_HHD_ACS_09_13    : num  13.7 22.9 31.2 45.7 25.4 ...\n",
      " $ pct_HHD_Moved_in_ACS_09_13     : num  9.76 6.57 10.48 19.54 12.81 ...\n",
      " $ pct_PUB_ASST_INC_ACS_09_13     : num  0 0 1.37 0 0 ...\n",
      " $ pct_MLT_U2_9_STRC_ACS_09_13    : num  0 0 18.7 8.53 0 ...\n",
      " $ pct_MLT_U10p_ACS_09_13         : num  0 0 0 4.98 0 0 0 3.21 0 0 ...\n",
      " $ pct_Mobile_Homes_ACS_09_13     : num  28.8 2.67 3.26 2.13 1.4 0 0 0 0 0 ...\n",
      " $ pct_Crowd_Occp_U_ACS_09_13     : num  0 0 0 1.27 0 0 0 0.42 0 4.44 ...\n",
      " $ pct_NO_PH_SRVC_ACS_09_13       : num  8.29 0.97 12.98 0 0 ...\n",
      " $ pct_Recent_Built_HU_ACS_09_13  : num  0 0 0 0 0 0 0 0 0 0 ...\n",
      " $ pct_Census_UAA_CEN_2010        : num  19.93 14.17 11.58 14.32 5.24 ...\n",
      " $ pct_RPLCMNT_FRMS_CEN_2010      : num  7.64 5.63 6.58 9.25 0 0 0 0 0 0 ...\n",
      " $ has_superfund                  : Factor w/ 2 levels \"No\",\"Yes\": 1 1 1 1 1 1 1 1 1 1 ...\n"
     ]
    }
   ],
   "source": [
    "# Overview structure of the dataset\n",
    "str(sf_block_completed)"
   ]
  },
  {
   "cell_type": "markdown",
   "metadata": {},
   "source": [
    "We go from 220,335 observations and retain complete cases of 213,089. In other words, we use 97% of the original dataset"
   ]
  },
  {
   "cell_type": "code",
   "execution_count": 14,
   "metadata": {},
   "outputs": [],
   "source": [
    "# Let's back up this clean data\n",
    "write.csv(sf_block_completed, 'C:/Datasets/sf_block_completed.csv')"
   ]
  },
  {
   "cell_type": "markdown",
   "metadata": {},
   "source": [
    "## Data Splitting and Class Imbalance"
   ]
  },
  {
   "cell_type": "code",
   "execution_count": 15,
   "metadata": {},
   "outputs": [],
   "source": [
    "# Create partition rule for splitting the dataset\n",
    "partitionRule <- createDataPartition(sf_block_completed$has_superfund, p=0.7, list=F)"
   ]
  },
  {
   "cell_type": "code",
   "execution_count": 16,
   "metadata": {},
   "outputs": [],
   "source": [
    "# Create imbalance training set and testing set\n",
    "imtrainingSet <- sf_block_completed[partitionRule,]\n",
    "testingSet <- sf_block_completed[-partitionRule,]"
   ]
  },
  {
   "cell_type": "code",
   "execution_count": 17,
   "metadata": {},
   "outputs": [
    {
     "data": {
      "text/html": [
       "834"
      ],
      "text/latex": [
       "834"
      ],
      "text/markdown": [
       "834"
      ],
      "text/plain": [
       "[1] 834"
      ]
     },
     "metadata": {},
     "output_type": "display_data"
    },
    {
     "data": {
      "text/html": [
       "148329"
      ],
      "text/latex": [
       "148329"
      ],
      "text/markdown": [
       "148329"
      ],
      "text/plain": [
       "[1] 148329"
      ]
     },
     "metadata": {},
     "output_type": "display_data"
    }
   ],
   "source": [
    "# Let's see how imbalance our dataset is\n",
    "length(which(imtrainingSet$has_superfund=='Yes'))\n",
    "length(which(imtrainingSet$has_superfund=='No'))"
   ]
  },
  {
   "cell_type": "code",
   "execution_count": 18,
   "metadata": {},
   "outputs": [],
   "source": [
    "# Using downSample function of caret, we will create a balance class training dataset\n",
    "trainingSet <- downSample(x=imtrainingSet[,-67], y=imtrainingSet$has_superfund)"
   ]
  },
  {
   "cell_type": "code",
   "execution_count": 19,
   "metadata": {},
   "outputs": [
    {
     "data": {
      "text/html": [
       "834"
      ],
      "text/latex": [
       "834"
      ],
      "text/markdown": [
       "834"
      ],
      "text/plain": [
       "[1] 834"
      ]
     },
     "metadata": {},
     "output_type": "display_data"
    },
    {
     "data": {
      "text/html": [
       "834"
      ],
      "text/latex": [
       "834"
      ],
      "text/markdown": [
       "834"
      ],
      "text/plain": [
       "[1] 834"
      ]
     },
     "metadata": {},
     "output_type": "display_data"
    }
   ],
   "source": [
    "# Let's see how balance our dataset is\n",
    "length(which(trainingSet$Class=='Yes'))\n",
    "length(which(trainingSet$Class=='No'))"
   ]
  },
  {
   "cell_type": "markdown",
   "metadata": {},
   "source": [
    "## Model Training"
   ]
  },
  {
   "cell_type": "code",
   "execution_count": 73,
   "metadata": {},
   "outputs": [],
   "source": [
    "# Let's create training parameters used for caret train control\n",
    "mycontrol <- trainControl(method='repeatedcv', number=10, repeats=3, search='grid',\n",
    "                                  summaryFunction=twoClassSummary,\n",
    "                                  classProbs = TRUE,\n",
    "                                  savePredictions = TRUE)"
   ]
  },
  {
   "cell_type": "markdown",
   "metadata": {},
   "source": [
    "#### Setup parallel computing"
   ]
  },
  {
   "cell_type": "code",
   "execution_count": 21,
   "metadata": {},
   "outputs": [],
   "source": [
    "# Create a socket cluster using 10 processes.\n",
    "cl <- makeCluster(10, type = \"SOCK\")\n",
    "\n",
    "# Register cluster so that caret will know to train in parallel.\n",
    "registerDoSNOW(cl)"
   ]
  },
  {
   "cell_type": "markdown",
   "metadata": {},
   "source": [
    "#### Classification with a baseline Logistic Regression"
   ]
  },
  {
   "cell_type": "code",
   "execution_count": 74,
   "metadata": {},
   "outputs": [],
   "source": [
    "# Training model with Logistic Regression\n",
    "LRModel <- train(Class ~ ., data=trainingSet,\n",
    "                trControl = mycontrol,\n",
    "                metric = 'ROC',\n",
    "                method = 'glm', family = 'binomial')"
   ]
  },
  {
   "cell_type": "code",
   "execution_count": 75,
   "metadata": {},
   "outputs": [],
   "source": [
    "# Using the model to predict classification of test set\n",
    "LRPredictions <- predict(LRModel, testingSet)"
   ]
  },
  {
   "cell_type": "code",
   "execution_count": 76,
   "metadata": {},
   "outputs": [
    {
     "name": "stdout",
     "output_type": "stream",
     "text": [
      "Confusion Matrix and Statistics\n",
      "\n",
      "          Reference\n",
      "Prediction    No   Yes\n",
      "       No  37154   146\n",
      "       Yes 26415   211\n",
      "                                          \n",
      "               Accuracy : 0.5845          \n",
      "                 95% CI : (0.5807, 0.5883)\n",
      "    No Information Rate : 0.9944          \n",
      "    P-Value [Acc > NIR] : 1               \n",
      "                                          \n",
      "                  Kappa : 0.0047          \n",
      "                                          \n",
      " Mcnemar's Test P-Value : <2e-16          \n",
      "                                          \n",
      "            Sensitivity : 0.584467        \n",
      "            Specificity : 0.591036        \n",
      "         Pos Pred Value : 0.996086        \n",
      "         Neg Pred Value : 0.007925        \n",
      "             Prevalence : 0.994415        \n",
      "         Detection Rate : 0.581203        \n",
      "   Detection Prevalence : 0.583487        \n",
      "      Balanced Accuracy : 0.587752        \n",
      "                                          \n",
      "       'Positive' Class : No              \n",
      "                                          \n"
     ]
    }
   ],
   "source": [
    "# Create confusion matrix\n",
    "cmLR <- confusionMatrix(LRPredictions, testingSet$has_superfund)\n",
    "print(cmLR)"
   ]
  },
  {
   "cell_type": "code",
   "execution_count": 25,
   "metadata": {},
   "outputs": [
    {
     "data": {
      "text/html": [
       "<ol class=list-inline>\n",
       "\t<li>'AIAN_LAND'</li>\n",
       "\t<li>'Pop_65plus_ACS_09_13'</li>\n",
       "\t<li>'Sngl_Prns_HHD_ACS_09_13'</li>\n",
       "\t<li>'pct_Pop_45_64_CEN_2010'</li>\n",
       "\t<li>'pct_NH_White_alone_ACS_09_13'</li>\n",
       "\t<li>'pct_NH_Asian_alone_ACS_09_13'</li>\n",
       "\t<li>'pct_College_ACS_09_13'</li>\n",
       "\t<li>'pct_One_Health_Ins_ACS_09_13'</li>\n",
       "\t<li>'pct_TwoPHealth_Ins_ACS_09_13'</li>\n",
       "\t<li>'pct_No_Health_Ins_ACS_09_13'</li>\n",
       "\t<li>'pct_Recent_Built_HU_ACS_09_13'</li>\n",
       "</ol>\n"
      ],
      "text/latex": [
       "\\begin{enumerate*}\n",
       "\\item 'AIAN\\_LAND'\n",
       "\\item 'Pop\\_65plus\\_ACS\\_09\\_13'\n",
       "\\item 'Sngl\\_Prns\\_HHD\\_ACS\\_09\\_13'\n",
       "\\item 'pct\\_Pop\\_45\\_64\\_CEN\\_2010'\n",
       "\\item 'pct\\_NH\\_White\\_alone\\_ACS\\_09\\_13'\n",
       "\\item 'pct\\_NH\\_Asian\\_alone\\_ACS\\_09\\_13'\n",
       "\\item 'pct\\_College\\_ACS\\_09\\_13'\n",
       "\\item 'pct\\_One\\_Health\\_Ins\\_ACS\\_09\\_13'\n",
       "\\item 'pct\\_TwoPHealth\\_Ins\\_ACS\\_09\\_13'\n",
       "\\item 'pct\\_No\\_Health\\_Ins\\_ACS\\_09\\_13'\n",
       "\\item 'pct\\_Recent\\_Built\\_HU\\_ACS\\_09\\_13'\n",
       "\\end{enumerate*}\n"
      ],
      "text/markdown": [
       "1. 'AIAN_LAND'\n",
       "2. 'Pop_65plus_ACS_09_13'\n",
       "3. 'Sngl_Prns_HHD_ACS_09_13'\n",
       "4. 'pct_Pop_45_64_CEN_2010'\n",
       "5. 'pct_NH_White_alone_ACS_09_13'\n",
       "6. 'pct_NH_Asian_alone_ACS_09_13'\n",
       "7. 'pct_College_ACS_09_13'\n",
       "8. 'pct_One_Health_Ins_ACS_09_13'\n",
       "9. 'pct_TwoPHealth_Ins_ACS_09_13'\n",
       "10. 'pct_No_Health_Ins_ACS_09_13'\n",
       "11. 'pct_Recent_Built_HU_ACS_09_13'\n",
       "\n",
       "\n"
      ],
      "text/plain": [
       " [1] \"AIAN_LAND\"                     \"Pop_65plus_ACS_09_13\"         \n",
       " [3] \"Sngl_Prns_HHD_ACS_09_13\"       \"pct_Pop_45_64_CEN_2010\"       \n",
       " [5] \"pct_NH_White_alone_ACS_09_13\"  \"pct_NH_Asian_alone_ACS_09_13\" \n",
       " [7] \"pct_College_ACS_09_13\"         \"pct_One_Health_Ins_ACS_09_13\" \n",
       " [9] \"pct_TwoPHealth_Ins_ACS_09_13\"  \"pct_No_Health_Ins_ACS_09_13\"  \n",
       "[11] \"pct_Recent_Built_HU_ACS_09_13\""
      ]
     },
     "metadata": {},
     "output_type": "display_data"
    }
   ],
   "source": [
    "# Select significant variable with p-value<=0.05\n",
    "logitmod <- glm(Class~., family = 'binomial', data = trainingSet)\n",
    "logitmod_tm = tidy(logitmod)\n",
    "logitmod_tm$term[logitmod_tm$p.value<=0.05]"
   ]
  },
  {
   "cell_type": "markdown",
   "metadata": {},
   "source": [
    "#### Classification with Linear SVM"
   ]
  },
  {
   "cell_type": "code",
   "execution_count": 77,
   "metadata": {},
   "outputs": [],
   "source": [
    "# Training model with Linear SVM\n",
    "LSVModel <- train(Class ~ ., data=trainingSet,\n",
    "                 method = 'svmLinear',\n",
    "                 metric = 'ROC',\n",
    "                 trControl = mycontrol,\n",
    "                 preProcess = c('center', 'scale'),\n",
    "                 tuneLength = 10)"
   ]
  },
  {
   "cell_type": "code",
   "execution_count": 78,
   "metadata": {},
   "outputs": [],
   "source": [
    "# Using the model to predict classification of test set\n",
    "LSVMPredictions <- predict(LSVModel, testingSet)"
   ]
  },
  {
   "cell_type": "code",
   "execution_count": 79,
   "metadata": {},
   "outputs": [
    {
     "name": "stdout",
     "output_type": "stream",
     "text": [
      "Confusion Matrix and Statistics\n",
      "\n",
      "          Reference\n",
      "Prediction    No   Yes\n",
      "       No  37387   146\n",
      "       Yes 26182   211\n",
      "                                         \n",
      "               Accuracy : 0.5881         \n",
      "                 95% CI : (0.5843, 0.592)\n",
      "    No Information Rate : 0.9944         \n",
      "    P-Value [Acc > NIR] : 1              \n",
      "                                         \n",
      "                  Kappa : 0.0048         \n",
      "                                         \n",
      " Mcnemar's Test P-Value : <2e-16         \n",
      "                                         \n",
      "            Sensitivity : 0.588133       \n",
      "            Specificity : 0.591036       \n",
      "         Pos Pred Value : 0.996110       \n",
      "         Neg Pred Value : 0.007995       \n",
      "             Prevalence : 0.994415       \n",
      "         Detection Rate : 0.584848       \n",
      "   Detection Prevalence : 0.587132       \n",
      "      Balanced Accuracy : 0.589584       \n",
      "                                         \n",
      "       'Positive' Class : No             \n",
      "                                         \n"
     ]
    }
   ],
   "source": [
    "# Create confusion matrix\n",
    "cmLSVM <- confusionMatrix(LSVMPredictions, testingSet$has_superfund)\n",
    "print(cmLSVM)"
   ]
  },
  {
   "cell_type": "code",
   "execution_count": 80,
   "metadata": {},
   "outputs": [
    {
     "data": {
      "image/png": "[encoded data removed]",
      "text/plain": [
       "plot without title"
      ]
     },
     "metadata": {
      "image/png": {
       "height": 420,
       "width": 420
      },
      "text/plain": {
       "height": 420,
       "width": 420
      }
     },
     "output_type": "display_data"
    }
   ],
   "source": [
    "# Ranking features by importance\n",
    "LSVM_importance <- varImp(LSVModel, scale=FALSE)\n",
    "plot(LSVM_importance, top = 10)"
   ]
  },
  {
   "cell_type": "markdown",
   "metadata": {},
   "source": [
    "#### Classification with Non-linear Support Vector Machine"
   ]
  },
  {
   "cell_type": "code",
   "execution_count": 81,
   "metadata": {},
   "outputs": [],
   "source": [
    "# Training model with SVM\n",
    "SVModel <- train(Class ~ ., data=trainingSet,\n",
    "                method = 'svmRadial',\n",
    "                metric = 'ROC',\n",
    "                trControl = mycontrol,\n",
    "                preProcess = c('center', 'scale'))"
   ]
  },
  {
   "cell_type": "code",
   "execution_count": 82,
   "metadata": {},
   "outputs": [],
   "source": [
    "# Using the model to predict classification of test set\n",
    "SVMPredictions <- predict(SVModel, testingSet)"
   ]
  },
  {
   "cell_type": "code",
   "execution_count": 83,
   "metadata": {},
   "outputs": [
    {
     "name": "stdout",
     "output_type": "stream",
     "text": [
      "Confusion Matrix and Statistics\n",
      "\n",
      "          Reference\n",
      "Prediction    No   Yes\n",
      "       No  37422   133\n",
      "       Yes 26147   224\n",
      "                                          \n",
      "               Accuracy : 0.5889          \n",
      "                 95% CI : (0.5851, 0.5927)\n",
      "    No Information Rate : 0.9944          \n",
      "    P-Value [Acc > NIR] : 1               \n",
      "                                          \n",
      "                  Kappa : 0.0058          \n",
      "                                          \n",
      " Mcnemar's Test P-Value : <2e-16          \n",
      "                                          \n",
      "            Sensitivity : 0.588683        \n",
      "            Specificity : 0.627451        \n",
      "         Pos Pred Value : 0.996459        \n",
      "         Neg Pred Value : 0.008494        \n",
      "             Prevalence : 0.994415        \n",
      "         Detection Rate : 0.585396        \n",
      "   Detection Prevalence : 0.587476        \n",
      "      Balanced Accuracy : 0.608067        \n",
      "                                          \n",
      "       'Positive' Class : No              \n",
      "                                          \n"
     ]
    }
   ],
   "source": [
    "# Create confusion matrix\n",
    "cmSVM <- confusionMatrix(SVMPredictions, testingSet$has_superfund)\n",
    "print(cmSVM)"
   ]
  },
  {
   "cell_type": "code",
   "execution_count": 84,
   "metadata": {},
   "outputs": [
    {
     "data": {
      "image/png": "[encoded data removed]",
      "text/plain": [
       "plot without title"
      ]
     },
     "metadata": {
      "image/png": {
       "height": 420,
       "width": 420
      },
      "text/plain": {
       "height": 420,
       "width": 420
      }
     },
     "output_type": "display_data"
    }
   ],
   "source": [
    "# Ranking features by importance\n",
    "SVM_importance <- varImp(SVModel, scale=FALSE)\n",
    "plot(SVM_importance, top = 10)"
   ]
  },
  {
   "cell_type": "markdown",
   "metadata": {},
   "source": [
    "#### Classification with glmnet"
   ]
  },
  {
   "cell_type": "code",
   "execution_count": 85,
   "metadata": {},
   "outputs": [],
   "source": [
    "# Training the model with glmnet\n",
    "glmnetModel <- train(Class ~ ., data=trainingSet,\n",
    "                    metric = 'ROC', method = 'glmnet',\n",
    "                    tuneGrid = expand.grid(alpha = 0:1, lambda = 0:10/10),\n",
    "                    trControl = mycontrol)"
   ]
  },
  {
   "cell_type": "code",
   "execution_count": 86,
   "metadata": {},
   "outputs": [],
   "source": [
    "# Using the model to predict classification of test set\n",
    "glmnetPredictions <- predict(glmnetModel, testingSet)"
   ]
  },
  {
   "cell_type": "code",
   "execution_count": 87,
   "metadata": {},
   "outputs": [
    {
     "name": "stdout",
     "output_type": "stream",
     "text": [
      "Confusion Matrix and Statistics\n",
      "\n",
      "          Reference\n",
      "Prediction    No   Yes\n",
      "       No  38536   156\n",
      "       Yes 25033   201\n",
      "                                          \n",
      "               Accuracy : 0.606           \n",
      "                 95% CI : (0.6022, 0.6098)\n",
      "    No Information Rate : 0.9944          \n",
      "    P-Value [Acc > NIR] : 1               \n",
      "                                          \n",
      "                  Kappa : 0.0047          \n",
      "                                          \n",
      " Mcnemar's Test P-Value : <2e-16          \n",
      "                                          \n",
      "            Sensitivity : 0.606207        \n",
      "            Specificity : 0.563025        \n",
      "         Pos Pred Value : 0.995968        \n",
      "         Neg Pred Value : 0.007965        \n",
      "             Prevalence : 0.994415        \n",
      "         Detection Rate : 0.602822        \n",
      "   Detection Prevalence : 0.605262        \n",
      "      Balanced Accuracy : 0.584616        \n",
      "                                          \n",
      "       'Positive' Class : No              \n",
      "                                          \n"
     ]
    }
   ],
   "source": [
    "# Create confusion matrix\n",
    "cmglmnet <- confusionMatrix(glmnetPredictions, testingSet$has_superfund)\n",
    "print(cmglmnet)"
   ]
  },
  {
   "cell_type": "code",
   "execution_count": 88,
   "metadata": {},
   "outputs": [
    {
     "data": {
      "image/png": "[encoded data removed]",
      "text/plain": [
       "plot without title"
      ]
     },
     "metadata": {
      "image/png": {
       "height": 420,
       "width": 420
      },
      "text/plain": {
       "height": 420,
       "width": 420
      }
     },
     "output_type": "display_data"
    }
   ],
   "source": [
    "plot(GlmnetModel)"
   ]
  },
  {
   "cell_type": "code",
   "execution_count": 89,
   "metadata": {},
   "outputs": [
    {
     "data": {
      "image/png": "[encoded data removed]",
      "text/plain": [
       "plot without title"
      ]
     },
     "metadata": {
      "image/png": {
       "height": 420,
       "width": 420
      },
      "text/plain": {
       "height": 420,
       "width": 420
      }
     },
     "output_type": "display_data"
    }
   ],
   "source": [
    "# Ranking features by importance\n",
    "Glmnet_importance <- varImp(GlmnetModel, scale=FALSE)\n",
    "plot(Glmnet_importance, top = 10)"
   ]
  },
  {
   "cell_type": "markdown",
   "metadata": {},
   "source": [
    "#### Classification with Random Forest"
   ]
  },
  {
   "cell_type": "code",
   "execution_count": 90,
   "metadata": {},
   "outputs": [],
   "source": [
    "# Training model with RF\n",
    "RFModel <- train(Class ~ ., data=trainingSet,\n",
    "                method = 'ranger',\n",
    "                metric = 'ROC',\n",
    "                trControl = mycontrol)"
   ]
  },
  {
   "cell_type": "code",
   "execution_count": 91,
   "metadata": {},
   "outputs": [],
   "source": [
    "# Using the model to predict classification of test set\n",
    "RFPredictions <- predict(RFModel, testingSet)"
   ]
  },
  {
   "cell_type": "code",
   "execution_count": 92,
   "metadata": {},
   "outputs": [
    {
     "name": "stdout",
     "output_type": "stream",
     "text": [
      "Confusion Matrix and Statistics\n",
      "\n",
      "          Reference\n",
      "Prediction    No   Yes\n",
      "       No  39272   105\n",
      "       Yes 24297   252\n",
      "                                         \n",
      "               Accuracy : 0.6183         \n",
      "                 95% CI : (0.6145, 0.622)\n",
      "    No Information Rate : 0.9944         \n",
      "    P-Value [Acc > NIR] : 1              \n",
      "                                         \n",
      "                  Kappa : 0.0093         \n",
      "                                         \n",
      " Mcnemar's Test P-Value : <2e-16         \n",
      "                                         \n",
      "            Sensitivity : 0.61779        \n",
      "            Specificity : 0.70588        \n",
      "         Pos Pred Value : 0.99733        \n",
      "         Neg Pred Value : 0.01027        \n",
      "             Prevalence : 0.99442        \n",
      "         Detection Rate : 0.61434        \n",
      "   Detection Prevalence : 0.61598        \n",
      "      Balanced Accuracy : 0.66183        \n",
      "                                         \n",
      "       'Positive' Class : No             \n",
      "                                         \n"
     ]
    }
   ],
   "source": [
    "# Create confusion matrix\n",
    "cmRF <- confusionMatrix(RFPredictions, testingSet$has_superfund)\n",
    "print(cmRF)"
   ]
  },
  {
   "cell_type": "code",
   "execution_count": 93,
   "metadata": {},
   "outputs": [
    {
     "data": {
      "image/png": "[encoded data removed]",
      "text/plain": [
       "plot without title"
      ]
     },
     "metadata": {
      "image/png": {
       "height": 420,
       "width": 420
      },
      "text/plain": {
       "height": 420,
       "width": 420
      }
     },
     "output_type": "display_data"
    }
   ],
   "source": [
    "plot(RFModel)"
   ]
  },
  {
   "cell_type": "markdown",
   "metadata": {},
   "source": [
    "#### Classification with XGBoost"
   ]
  },
  {
   "cell_type": "code",
   "execution_count": 59,
   "metadata": {},
   "outputs": [],
   "source": [
    "# Create tuning grid for XGBoost\n",
    "tune.grid <- expand.grid(eta = c(0.05, 0.075, 0.1),\n",
    "                         nrounds = c(50, 75, 100),\n",
    "                         max_depth = 6:8,\n",
    "                         min_child_weight = c(2.0, 2.25, 2.5),\n",
    "                         colsample_bytree = c(0.3, 0.4, 0.5),\n",
    "                         gamma = 0,\n",
    "                         subsample = 1)"
   ]
  },
  {
   "cell_type": "code",
   "execution_count": 100,
   "metadata": {},
   "outputs": [],
   "source": [
    "# Train the xgboost model using 10-fold CV repeated 3 times and a hyperparameter grid search to train the optimal model.\n",
    "xgbModel <- train(Class ~ ., \n",
    "                  data = trainingSet,\n",
    "                  method = \"xgbTree\",\n",
    "                  metric = 'ROC',\n",
    "                  tuneGrid = tune.grid,\n",
    "                  trControl = mycontrol)"
   ]
  },
  {
   "cell_type": "code",
   "execution_count": 101,
   "metadata": {},
   "outputs": [],
   "source": [
    "# Using the model to predict classification of test set\n",
    "xgbPredictions <- predict(xgbModel, testingSet)"
   ]
  },
  {
   "cell_type": "code",
   "execution_count": 102,
   "metadata": {},
   "outputs": [
    {
     "name": "stdout",
     "output_type": "stream",
     "text": [
      "Confusion Matrix and Statistics\n",
      "\n",
      "          Reference\n",
      "Prediction    No   Yes\n",
      "       No  39492   109\n",
      "       Yes 24077   248\n",
      "                                          \n",
      "               Accuracy : 0.6217          \n",
      "                 95% CI : (0.6179, 0.6254)\n",
      "    No Information Rate : 0.9944          \n",
      "    P-Value [Acc > NIR] : 1               \n",
      "                                          \n",
      "                  Kappa : 0.0092          \n",
      "                                          \n",
      " Mcnemar's Test P-Value : <2e-16          \n",
      "                                          \n",
      "            Sensitivity : 0.6212          \n",
      "            Specificity : 0.6947          \n",
      "         Pos Pred Value : 0.9972          \n",
      "         Neg Pred Value : 0.0102          \n",
      "             Prevalence : 0.9944          \n",
      "         Detection Rate : 0.6178          \n",
      "   Detection Prevalence : 0.6195          \n",
      "      Balanced Accuracy : 0.6580          \n",
      "                                          \n",
      "       'Positive' Class : No              \n",
      "                                          \n"
     ]
    }
   ],
   "source": [
    "# Create confusion matrix\n",
    "cm_xgb <- confusionMatrix(xgbPredictions, testingSet$has_superfund)\n",
    "print(cm_xgb)"
   ]
  },
  {
   "cell_type": "code",
   "execution_count": 103,
   "metadata": {
    "scrolled": false
   },
   "outputs": [
    {
     "data": {
      "image/png": "[encoded data removed]",
      "text/plain": [
       "plot without title"
      ]
     },
     "metadata": {
      "image/png": {
       "height": 420,
       "width": 420
      },
      "text/plain": {
       "height": 420,
       "width": 420
      }
     },
     "output_type": "display_data"
    }
   ],
   "source": [
    "# Ranking features by importance\n",
    "xgb_importance <- varImp(xgbModel, scale=FALSE)\n",
    "plot(xgb_importance, top = 10)"
   ]
  },
  {
   "cell_type": "markdown",
   "metadata": {},
   "source": [
    "#### Comparision among Ensemble Models"
   ]
  },
  {
   "cell_type": "code",
   "execution_count": 104,
   "metadata": {},
   "outputs": [],
   "source": [
    "model_list <- list(lsvm = LRModel, svm = SVModel, glmnet = glmnetModel, rf = RFModel, xgb = xgbModel)"
   ]
  },
  {
   "cell_type": "code",
   "execution_count": 105,
   "metadata": {},
   "outputs": [
    {
     "data": {
      "text/plain": [
       "\n",
       "Call:\n",
       "summary.resamples(object = resamps)\n",
       "\n",
       "Models: lsvm, svm, glmnet, rf, xgb \n",
       "Number of resamples: 30 \n",
       "\n",
       "ROC \n",
       "            Min.   1st Qu.    Median      Mean   3rd Qu.      Max. NA's\n",
       "lsvm   0.5484105 0.5855034 0.6047899 0.6045672 0.6175752 0.6846655    0\n",
       "svm    0.5765921 0.6188826 0.6381205 0.6425634 0.6662769 0.7274814    0\n",
       "glmnet 0.5283786 0.5923133 0.6137303 0.6097411 0.6392355 0.6784729    0\n",
       "rf     0.6359414 0.6869168 0.7031262 0.7063345 0.7243797 0.7665663    0\n",
       "xgb    0.6181870 0.6824082 0.7082366 0.7020727 0.7292660 0.7598967    0\n",
       "\n",
       "Sens \n",
       "            Min.   1st Qu.    Median      Mean   3rd Qu.      Max. NA's\n",
       "lsvm   0.4819277 0.5435313 0.5722892 0.5782415 0.6071429 0.6904762    0\n",
       "svm    0.5301205 0.5783133 0.6144578 0.6086489 0.6428571 0.6867470    0\n",
       "glmnet 0.5060241 0.5612091 0.5952381 0.5998948 0.6385542 0.6987952    0\n",
       "rf     0.4939759 0.5795683 0.6011905 0.5990295 0.6279762 0.6987952    0\n",
       "xgb    0.5238095 0.5731497 0.6265060 0.6171256 0.6537220 0.7108434    0\n",
       "\n",
       "Spec \n",
       "            Min.   1st Qu.    Median      Mean   3rd Qu.      Max. NA's\n",
       "lsvm   0.5060241 0.5451807 0.5808233 0.5838640 0.6298408 0.6547619    0\n",
       "svm    0.5119048 0.5783133 0.6024096 0.6114745 0.6475904 0.7857143    0\n",
       "glmnet 0.4404762 0.5315189 0.5662651 0.5668340 0.5993976 0.6987952    0\n",
       "rf     0.6385542 0.6756670 0.7108434 0.7066408 0.7253657 0.7857143    0\n",
       "xgb    0.5783133 0.6447935 0.6867470 0.6759036 0.7108434 0.7469880    0\n"
      ]
     },
     "metadata": {},
     "output_type": "display_data"
    }
   ],
   "source": [
    "resamps <- resamples(model_list)\n",
    "summary(resamps)"
   ]
  },
  {
   "cell_type": "code",
   "execution_count": 106,
   "metadata": {},
   "outputs": [
    {
     "data": {
      "image/png": "[encoded data removed]",
      "text/plain": [
       "plot without title"
      ]
     },
     "metadata": {
      "image/png": {
       "height": 420,
       "width": 420
      },
      "text/plain": {
       "height": 420,
       "width": 420
      }
     },
     "output_type": "display_data"
    }
   ],
   "source": [
    "bwplot(resamps, metric = 'ROC')"
   ]
  },
  {
   "cell_type": "markdown",
   "metadata": {},
   "source": [
    "We can see that XGBoost and Random Forest have better performance than other models but with much more operation cost"
   ]
  }
 ],
 "metadata": {
  "kernelspec": {
   "display_name": "R",
   "language": "R",
   "name": "ir"
  },
  "language_info": {
   "codemirror_mode": "r",
   "file_extension": ".r",
   "mimetype": "text/x-r-source",
   "name": "R",
   "pygments_lexer": "r",
   "version": "3.6.2"
  }
 },
 "nbformat": 4,
 "nbformat_minor": 4
}
